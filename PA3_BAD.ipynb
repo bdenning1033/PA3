{
 "cells": [
  {
   "cell_type": "markdown",
   "id": "b25a1896",
   "metadata": {},
   "source": [
    "### Brandy Denning\n",
    "Assignment 3\n",
    "CS150-01\n",
    "FA 2023"
   ]
  },
  {
   "cell_type": "markdown",
   "id": "6fd1366b",
   "metadata": {},
   "source": [
    "### Task 1: List Operations"
   ]
  },
  {
   "cell_type": "code",
   "execution_count": 1,
   "id": "c3bc9ff3",
   "metadata": {},
   "outputs": [],
   "source": [
    "numbers = [10,20,30,40,50]"
   ]
  },
  {
   "cell_type": "code",
   "execution_count": 2,
   "id": "0fcc4a77",
   "metadata": {},
   "outputs": [
    {
     "data": {
      "text/plain": [
       "[10, 20, 30, 40, 50]"
      ]
     },
     "execution_count": 2,
     "metadata": {},
     "output_type": "execute_result"
    }
   ],
   "source": [
    "numbers"
   ]
  },
  {
   "cell_type": "code",
   "execution_count": 3,
   "id": "c439b755",
   "metadata": {},
   "outputs": [],
   "source": [
    "numbers.append(60)"
   ]
  },
  {
   "cell_type": "code",
   "execution_count": 4,
   "id": "c4c1e107",
   "metadata": {},
   "outputs": [
    {
     "data": {
      "text/plain": [
       "[10, 20, 30, 40, 50, 60]"
      ]
     },
     "execution_count": 4,
     "metadata": {},
     "output_type": "execute_result"
    }
   ],
   "source": [
    "numbers"
   ]
  },
  {
   "cell_type": "code",
   "execution_count": 5,
   "id": "7ee5e393",
   "metadata": {},
   "outputs": [
    {
     "data": {
      "text/plain": [
       "['5', 10, 20, 30, 40, 50, 60]"
      ]
     },
     "execution_count": 5,
     "metadata": {},
     "output_type": "execute_result"
    }
   ],
   "source": [
    "numbers.insert(0, '5')\n",
    "numbers"
   ]
  },
  {
   "cell_type": "code",
   "execution_count": 12,
   "id": "dbcd107f",
   "metadata": {},
   "outputs": [
    {
     "name": "stdout",
     "output_type": "stream",
     "text": [
      "['5', 20, 30, 40, 50, 60]\n"
     ]
    }
   ],
   "source": [
    "numbers.remove(10)\n",
    "print(numbers)"
   ]
  },
  {
   "cell_type": "markdown",
   "id": "8605f195",
   "metadata": {},
   "source": [
    "### Task 2: Tuple Basics"
   ]
  },
  {
   "cell_type": "code",
   "execution_count": 13,
   "id": "cba67021",
   "metadata": {},
   "outputs": [],
   "source": [
    "days_tuple=(\"Monday\", \"Tuesday\", \"Wednesday\", \"Thursday\", \"Friday\", \"Saturday\", \"Sunday\")"
   ]
  },
  {
   "cell_type": "code",
   "execution_count": 15,
   "id": "bd0cfbb7",
   "metadata": {},
   "outputs": [
    {
     "name": "stdout",
     "output_type": "stream",
     "text": [
      "('Monday', 'Tuesday', 'Wednesday', 'Thursday', 'Friday', 'Saturday', 'Sunday')\n"
     ]
    }
   ],
   "source": [
    "print(days_tuple)"
   ]
  },
  {
   "cell_type": "code",
   "execution_count": 16,
   "id": "898b0533",
   "metadata": {},
   "outputs": [
    {
     "data": {
      "text/plain": [
       "'Wednesday'"
      ]
     },
     "execution_count": 16,
     "metadata": {},
     "output_type": "execute_result"
    }
   ],
   "source": [
    "days_tuple[2]"
   ]
  },
  {
   "cell_type": "code",
   "execution_count": 17,
   "id": "9c2c661f",
   "metadata": {},
   "outputs": [
    {
     "ename": "TypeError",
     "evalue": "'tuple' object does not support item assignment",
     "output_type": "error",
     "traceback": [
      "\u001b[0;31m---------------------------------------------------------------------------\u001b[0m",
      "\u001b[0;31mTypeError\u001b[0m                                 Traceback (most recent call last)",
      "Cell \u001b[0;32mIn[17], line 1\u001b[0m\n\u001b[0;32m----> 1\u001b[0m days_tuple[\u001b[38;5;241m0\u001b[39m]\u001b[38;5;241m=\u001b[39m\u001b[38;5;124m'\u001b[39m\u001b[38;5;124mFunday\u001b[39m\u001b[38;5;124m'\u001b[39m\n",
      "\u001b[0;31mTypeError\u001b[0m: 'tuple' object does not support item assignment"
     ]
    }
   ],
   "source": [
    "days_tuple[0]='Funday'"
   ]
  },
  {
   "cell_type": "markdown",
   "id": "b53d3b01",
   "metadata": {},
   "source": [
    "### Tuple cannot be changed because it does not support item assingment."
   ]
  },
  {
   "cell_type": "markdown",
   "id": "33794ca6",
   "metadata": {},
   "source": [
    "### Task 3: Reversing Sublist"
   ]
  },
  {
   "cell_type": "code",
   "execution_count": 18,
   "id": "48639198",
   "metadata": {},
   "outputs": [],
   "source": [
    "letters=['a', 'b', 'c', 'd', 'e', 'f', 'g', 'h', 'i', 'j', 'k', 'l', 'm', 'n', 'o', 'p', 'q', 'r', 's', 't', 'u', 'v', 'w', 'x', 'y', 'z']"
   ]
  },
  {
   "cell_type": "code",
   "execution_count": 19,
   "id": "d1a91bbb",
   "metadata": {},
   "outputs": [
    {
     "name": "stdout",
     "output_type": "stream",
     "text": [
      "['a', 'b', 'c', 'd', 'e', 'f', 'g', 'h', 'i', 'j', 'k', 'l', 'm', 'n', 'o', 'p', 'q', 'r', 's', 't', 'u', 'v', 'w', 'x', 'y', 'z']\n"
     ]
    }
   ],
   "source": [
    "print(letters)"
   ]
  },
  {
   "cell_type": "code",
   "execution_count": 21,
   "id": "78d4d1f5",
   "metadata": {},
   "outputs": [
    {
     "data": {
      "text/plain": [
       "['z',\n",
       " 'y',\n",
       " 'x',\n",
       " 'w',\n",
       " 'v',\n",
       " 'u',\n",
       " 't',\n",
       " 's',\n",
       " 'r',\n",
       " 'q',\n",
       " 'p',\n",
       " 'o',\n",
       " 'n',\n",
       " 'm',\n",
       " 'l',\n",
       " 'k',\n",
       " 'j',\n",
       " 'i',\n",
       " 'h',\n",
       " 'g',\n",
       " 'f',\n",
       " 'e',\n",
       " 'd',\n",
       " 'c',\n",
       " 'b',\n",
       " 'a']"
      ]
     },
     "execution_count": 21,
     "metadata": {},
     "output_type": "execute_result"
    }
   ],
   "source": [
    "letters.reverse()\n",
    "letters"
   ]
  },
  {
   "cell_type": "code",
   "execution_count": 20,
   "id": "8d8ce31e",
   "metadata": {},
   "outputs": [
    {
     "data": {
      "text/plain": [
       "['k', 'l', 'm', 'n', 'o', 'p']"
      ]
     },
     "execution_count": 20,
     "metadata": {},
     "output_type": "execute_result"
    }
   ],
   "source": [
    "# Select sequential elements\n",
    "letters[10:16]"
   ]
  },
  {
   "cell_type": "markdown",
   "id": "273b8529",
   "metadata": {},
   "source": [
    "### Task 4: Tuple Packing and Unpacking"
   ]
  },
  {
   "cell_type": "code",
   "execution_count": 24,
   "id": "ee406fda",
   "metadata": {},
   "outputs": [],
   "source": [
    "data1_student=(\"Brandy\", \"Denning\", 38, \"Social Studies\")\n",
    "firstname, lastname, age, subject=data1_student"
   ]
  },
  {
   "cell_type": "code",
   "execution_count": 25,
   "id": "e9077f0c",
   "metadata": {},
   "outputs": [
    {
     "data": {
      "text/plain": [
       "'Brandy'"
      ]
     },
     "execution_count": 25,
     "metadata": {},
     "output_type": "execute_result"
    }
   ],
   "source": [
    "firstname"
   ]
  },
  {
   "cell_type": "code",
   "execution_count": 26,
   "id": "21d63d23",
   "metadata": {},
   "outputs": [
    {
     "data": {
      "text/plain": [
       "'Denning'"
      ]
     },
     "execution_count": 26,
     "metadata": {},
     "output_type": "execute_result"
    }
   ],
   "source": [
    "lastname"
   ]
  },
  {
   "cell_type": "code",
   "execution_count": 27,
   "id": "43b6706b",
   "metadata": {},
   "outputs": [
    {
     "data": {
      "text/plain": [
       "38"
      ]
     },
     "execution_count": 27,
     "metadata": {},
     "output_type": "execute_result"
    }
   ],
   "source": [
    "age"
   ]
  },
  {
   "cell_type": "code",
   "execution_count": 28,
   "id": "df1b4ff3",
   "metadata": {},
   "outputs": [
    {
     "data": {
      "text/plain": [
       "'Social Studies'"
      ]
     },
     "execution_count": 28,
     "metadata": {},
     "output_type": "execute_result"
    }
   ],
   "source": [
    "subject"
   ]
  },
  {
   "cell_type": "markdown",
   "id": "6a05b422",
   "metadata": {},
   "source": [
    "### Task 5: Shopping List"
   ]
  },
  {
   "cell_type": "code",
   "execution_count": 29,
   "id": "5151941b",
   "metadata": {},
   "outputs": [
    {
     "name": "stdout",
     "output_type": "stream",
     "text": [
      "['eggs', 'milk', 'bread', 'bacon', 'oj']\n"
     ]
    }
   ],
   "source": [
    "shopping_list= []\n",
    "shopping_list.append('eggs')\n",
    "shopping_list.append('milk')\n",
    "shopping_list.append('bread')\n",
    "shopping_list.append('bacon')\n",
    "shopping_list.append('oj')\n",
    "print(shopping_list)"
   ]
  },
  {
   "cell_type": "code",
   "execution_count": 30,
   "id": "97d51399",
   "metadata": {},
   "outputs": [
    {
     "data": {
      "text/plain": [
       "5"
      ]
     },
     "execution_count": 30,
     "metadata": {},
     "output_type": "execute_result"
    }
   ],
   "source": [
    "len(shopping_list)"
   ]
  },
  {
   "cell_type": "code",
   "execution_count": 34,
   "id": "64563783",
   "metadata": {},
   "outputs": [
    {
     "name": "stdout",
     "output_type": "stream",
     "text": [
      "['eggs', 'milk', 'cookies', 'cookies', 'oj']\n"
     ]
    }
   ],
   "source": [
    "shopping_list[2]='cookies'\n",
    "print(shopping_list)"
   ]
  },
  {
   "cell_type": "code",
   "execution_count": 37,
   "id": "a18df65d",
   "metadata": {},
   "outputs": [],
   "source": [
    "shopping_list.sort()"
   ]
  },
  {
   "cell_type": "code",
   "execution_count": 38,
   "id": "e76e7e4a",
   "metadata": {},
   "outputs": [
    {
     "data": {
      "text/plain": [
       "['cookies', 'cookies', 'eggs', 'milk', 'oj']"
      ]
     },
     "execution_count": 38,
     "metadata": {},
     "output_type": "execute_result"
    }
   ],
   "source": [
    "shopping_list"
   ]
  },
  {
   "cell_type": "code",
   "execution_count": null,
   "id": "583313be",
   "metadata": {},
   "outputs": [],
   "source": []
  }
 ],
 "metadata": {
  "kernelspec": {
   "display_name": "Python 3 (ipykernel)",
   "language": "python",
   "name": "python3"
  },
  "language_info": {
   "codemirror_mode": {
    "name": "ipython",
    "version": 3
   },
   "file_extension": ".py",
   "mimetype": "text/x-python",
   "name": "python",
   "nbconvert_exporter": "python",
   "pygments_lexer": "ipython3",
   "version": "3.11.5"
  }
 },
 "nbformat": 4,
 "nbformat_minor": 5
}
